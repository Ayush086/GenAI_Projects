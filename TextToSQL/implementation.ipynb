{
 "cells": [
  {
   "cell_type": "markdown",
   "id": "590dffc3",
   "metadata": {},
   "source": [
    "### Natural Text to SQL Query"
   ]
  },
  {
   "cell_type": "code",
   "execution_count": 1,
   "id": "930f3de0",
   "metadata": {},
   "outputs": [],
   "source": [
    "db_user = \"root\"\n",
    "db_password = \"9359635906\"\n",
    "db_host = \"localhost\"\n",
    "db_name = \"classicmodels\"\n"
   ]
  },
  {
   "cell_type": "code",
   "execution_count": 2,
   "id": "fafe9b7f",
   "metadata": {},
   "outputs": [],
   "source": [
    "# connection to db\n",
    "from langchain_community.utilities.sql_database import SQLDatabase\n",
    "\n",
    "db = SQLDatabase.from_uri(f\"mysql+pymysql://{db_user}:{db_password}@{db_host}/{db_name}\") # by using sqlalchemy\n"
   ]
  },
  {
   "cell_type": "code",
   "execution_count": 3,
   "id": "801d3f98",
   "metadata": {},
   "outputs": [
    {
     "name": "stdout",
     "output_type": "stream",
     "text": [
      "mysql\n",
      "<bound method SQLDatabase.get_usable_table_names of <langchain_community.utilities.sql_database.SQLDatabase object at 0x00000190F94EFF50>>\n",
      "\n",
      "CREATE TABLE customers (\n",
      "\t`customerNumber` INTEGER NOT NULL, \n",
      "\t`customerName` VARCHAR(50) NOT NULL, \n",
      "\t`contactLastName` VARCHAR(50) NOT NULL, \n",
      "\t`contactFirstName` VARCHAR(50) NOT NULL, \n",
      "\tphone VARCHAR(50) NOT NULL, \n",
      "\t`addressLine1` VARCHAR(50) NOT NULL, \n",
      "\t`addressLine2` VARCHAR(50), \n",
      "\tcity VARCHAR(50) NOT NULL, \n",
      "\tstate VARCHAR(50), \n",
      "\t`postalCode` VARCHAR(15), \n",
      "\tcountry VARCHAR(50) NOT NULL, \n",
      "\t`salesRepEmployeeNumber` INTEGER, \n",
      "\t`creditLimit` DECIMAL(10, 2), \n",
      "\tPRIMARY KEY (`customerNumber`), \n",
      "\tCONSTRAINT customers_ibfk_1 FOREIGN KEY(`salesRepEmployeeNumber`) REFERENCES employees (`employeeNumber`)\n",
      ")DEFAULT CHARSET=utf8mb4 COLLATE utf8mb4_0900_ai_ci ENGINE=InnoDB\n",
      "\n",
      "/*\n",
      "3 rows from customers table:\n",
      "customerNumber\tcustomerName\tcontactLastName\tcontactFirstName\tphone\taddressLine1\taddressLine2\tcity\tstate\tpostalCode\tcountry\tsalesRepEmployeeNumber\tcreditLimit\n",
      "103\tAtelier graphique\tSchmitt\tCarine \t40.32.2555\t54, rue Royale\tNone\tNantes\tNone\t44000\tFrance\t1370\t21000.00\n",
      "112\tSignal Gift Stores\tKing\tJean\t7025551838\t8489 Strong St.\tNone\tLas Vegas\tNV\t83030\tUSA\t1166\t71800.00\n",
      "114\tAustralian Collectors, Co.\tFerguson\tPeter\t03 9520 4555\t636 St Kilda Road\tLevel 3\tMelbourne\tVictoria\t3004\tAustralia\t1611\t117300.00\n",
      "*/\n",
      "\n",
      "\n",
      "CREATE TABLE employees (\n",
      "\t`employeeNumber` INTEGER NOT NULL, \n",
      "\t`lastName` VARCHAR(50) NOT NULL, \n",
      "\t`firstName` VARCHAR(50) NOT NULL, \n",
      "\textension VARCHAR(10) NOT NULL, \n",
      "\temail VARCHAR(100) NOT NULL, \n",
      "\t`officeCode` VARCHAR(10) NOT NULL, \n",
      "\t`reportsTo` INTEGER, \n",
      "\t`jobTitle` VARCHAR(50) NOT NULL, \n",
      "\tPRIMARY KEY (`employeeNumber`), \n",
      "\tCONSTRAINT employees_ibfk_1 FOREIGN KEY(`reportsTo`) REFERENCES employees (`employeeNumber`), \n",
      "\tCONSTRAINT employees_ibfk_2 FOREIGN KEY(`officeCode`) REFERENCES offices (`officeCode`)\n",
      ")DEFAULT CHARSET=utf8mb4 COLLATE utf8mb4_0900_ai_ci ENGINE=InnoDB\n",
      "\n",
      "/*\n",
      "3 rows from employees table:\n",
      "employeeNumber\tlastName\tfirstName\textension\temail\tofficeCode\treportsTo\tjobTitle\n",
      "1002\tMurphy\tDiane\tx5800\tdmurphy@classicmodelcars.com\t1\tNone\tPresident\n",
      "1056\tPatterson\tMary\tx4611\tmpatterso@classicmodelcars.com\t1\t1002\tVP Sales\n",
      "1076\tFirrelli\tJeff\tx9273\tjfirrelli@classicmodelcars.com\t1\t1002\tVP Marketing\n",
      "*/\n",
      "\n",
      "\n",
      "CREATE TABLE offices (\n",
      "\t`officeCode` VARCHAR(10) NOT NULL, \n",
      "\tcity VARCHAR(50) NOT NULL, \n",
      "\tphone VARCHAR(50) NOT NULL, \n",
      "\t`addressLine1` VARCHAR(50) NOT NULL, \n",
      "\t`addressLine2` VARCHAR(50), \n",
      "\tstate VARCHAR(50), \n",
      "\tcountry VARCHAR(50) NOT NULL, \n",
      "\t`postalCode` VARCHAR(15) NOT NULL, \n",
      "\tterritory VARCHAR(10) NOT NULL, \n",
      "\tPRIMARY KEY (`officeCode`)\n",
      ")DEFAULT CHARSET=utf8mb4 COLLATE utf8mb4_0900_ai_ci ENGINE=InnoDB\n",
      "\n",
      "/*\n",
      "3 rows from offices table:\n",
      "officeCode\tcity\tphone\taddressLine1\taddressLine2\tstate\tcountry\tpostalCode\tterritory\n",
      "1\tSan Francisco\t+1 650 219 4782\t100 Market Street\tSuite 300\tCA\tUSA\t94080\tNA\n",
      "2\tBoston\t+1 215 837 0825\t1550 Court Place\tSuite 102\tMA\tUSA\t02107\tNA\n",
      "3\tNYC\t+1 212 555 3000\t523 East 53rd Street\tapt. 5A\tNY\tUSA\t10022\tNA\n",
      "*/\n",
      "\n",
      "\n",
      "CREATE TABLE orderdetails (\n",
      "\t`orderNumber` INTEGER NOT NULL, \n",
      "\t`productCode` VARCHAR(15) NOT NULL, \n",
      "\t`quantityOrdered` INTEGER NOT NULL, \n",
      "\t`priceEach` DECIMAL(10, 2) NOT NULL, \n",
      "\t`orderLineNumber` SMALLINT NOT NULL, \n",
      "\tPRIMARY KEY (`orderNumber`, `productCode`), \n",
      "\tCONSTRAINT orderdetails_ibfk_1 FOREIGN KEY(`orderNumber`) REFERENCES orders (`orderNumber`), \n",
      "\tCONSTRAINT orderdetails_ibfk_2 FOREIGN KEY(`productCode`) REFERENCES products (`productCode`)\n",
      ")DEFAULT CHARSET=utf8mb4 COLLATE utf8mb4_0900_ai_ci ENGINE=InnoDB\n",
      "\n",
      "/*\n",
      "3 rows from orderdetails table:\n",
      "orderNumber\tproductCode\tquantityOrdered\tpriceEach\torderLineNumber\n",
      "10100\tS18_1749\t30\t136.00\t3\n",
      "10100\tS18_2248\t50\t55.09\t2\n",
      "10100\tS18_4409\t22\t75.46\t4\n",
      "*/\n",
      "\n",
      "\n",
      "CREATE TABLE orders (\n",
      "\t`orderNumber` INTEGER NOT NULL, \n",
      "\t`orderDate` DATE NOT NULL, \n",
      "\t`requiredDate` DATE NOT NULL, \n",
      "\t`shippedDate` DATE, \n",
      "\tstatus VARCHAR(15) NOT NULL, \n",
      "\tcomments TEXT, \n",
      "\t`customerNumber` INTEGER NOT NULL, \n",
      "\tPRIMARY KEY (`orderNumber`), \n",
      "\tCONSTRAINT orders_ibfk_1 FOREIGN KEY(`customerNumber`) REFERENCES customers (`customerNumber`)\n",
      ")DEFAULT CHARSET=utf8mb4 COLLATE utf8mb4_0900_ai_ci ENGINE=InnoDB\n",
      "\n",
      "/*\n",
      "3 rows from orders table:\n",
      "orderNumber\torderDate\trequiredDate\tshippedDate\tstatus\tcomments\tcustomerNumber\n",
      "10100\t2003-01-06\t2003-01-13\t2003-01-10\tShipped\tNone\t363\n",
      "10101\t2003-01-09\t2003-01-18\t2003-01-11\tShipped\tCheck on availability.\t128\n",
      "10102\t2003-01-10\t2003-01-18\t2003-01-14\tShipped\tNone\t181\n",
      "*/\n",
      "\n",
      "\n",
      "CREATE TABLE payments (\n",
      "\t`customerNumber` INTEGER NOT NULL, \n",
      "\t`checkNumber` VARCHAR(50) NOT NULL, \n",
      "\t`paymentDate` DATE NOT NULL, \n",
      "\tamount DECIMAL(10, 2) NOT NULL, \n",
      "\tPRIMARY KEY (`customerNumber`, `checkNumber`), \n",
      "\tCONSTRAINT payments_ibfk_1 FOREIGN KEY(`customerNumber`) REFERENCES customers (`customerNumber`)\n",
      ")DEFAULT CHARSET=utf8mb4 COLLATE utf8mb4_0900_ai_ci ENGINE=InnoDB\n",
      "\n",
      "/*\n",
      "3 rows from payments table:\n",
      "customerNumber\tcheckNumber\tpaymentDate\tamount\n",
      "103\tHQ336336\t2004-10-19\t6066.78\n",
      "103\tJM555205\t2003-06-05\t14571.44\n",
      "103\tOM314933\t2004-12-18\t1676.14\n",
      "*/\n",
      "\n",
      "\n",
      "CREATE TABLE productlines (\n",
      "\t`productLine` VARCHAR(50) NOT NULL, \n",
      "\t`textDescription` VARCHAR(4000), \n",
      "\t`htmlDescription` MEDIUMTEXT, \n",
      "\timage MEDIUMBLOB, \n",
      "\tPRIMARY KEY (`productLine`)\n",
      ")DEFAULT CHARSET=utf8mb4 COLLATE utf8mb4_0900_ai_ci ENGINE=InnoDB\n",
      "\n",
      "/*\n",
      "3 rows from productlines table:\n",
      "productLine\ttextDescription\thtmlDescription\timage\n",
      "Classic Cars\tAttention car enthusiasts: Make your wildest car ownership dreams come true. Whether you are looking\tNone\tNone\n",
      "Motorcycles\tOur motorcycles are state of the art replicas of classic as well as contemporary motorcycle legends \tNone\tNone\n",
      "Planes\tUnique, diecast airplane and helicopter replicas suitable for collections, as well as home, office o\tNone\tNone\n",
      "*/\n",
      "\n",
      "\n",
      "CREATE TABLE products (\n",
      "\t`productCode` VARCHAR(15) NOT NULL, \n",
      "\t`productName` VARCHAR(70) NOT NULL, \n",
      "\t`productLine` VARCHAR(50) NOT NULL, \n",
      "\t`productScale` VARCHAR(10) NOT NULL, \n",
      "\t`productVendor` VARCHAR(50) NOT NULL, \n",
      "\t`productDescription` TEXT NOT NULL, \n",
      "\t`quantityInStock` SMALLINT NOT NULL, \n",
      "\t`buyPrice` DECIMAL(10, 2) NOT NULL, \n",
      "\t`MSRP` DECIMAL(10, 2) NOT NULL, \n",
      "\tPRIMARY KEY (`productCode`), \n",
      "\tCONSTRAINT products_ibfk_1 FOREIGN KEY(`productLine`) REFERENCES productlines (`productLine`)\n",
      ")DEFAULT CHARSET=utf8mb4 COLLATE utf8mb4_0900_ai_ci ENGINE=InnoDB\n",
      "\n",
      "/*\n",
      "3 rows from products table:\n",
      "productCode\tproductName\tproductLine\tproductScale\tproductVendor\tproductDescription\tquantityInStock\tbuyPrice\tMSRP\n",
      "S10_1678\t1969 Harley Davidson Ultimate Chopper\tMotorcycles\t1:10\tMin Lin Diecast\tThis replica features working kickstand, front suspension, gear-shift lever, footbrake lever, drive \t7933\t48.81\t95.70\n",
      "S10_1949\t1952 Alpine Renault 1300\tClassic Cars\t1:10\tClassic Metal Creations\tTurnable front wheels; steering function; detailed interior; detailed engine; opening hood; opening \t7305\t98.58\t214.30\n",
      "S10_2016\t1996 Moto Guzzi 1100i\tMotorcycles\t1:10\tHighway 66 Mini Classics\tOfficial Moto Guzzi logos and insignias, saddle bags located on side of motorcycle, detailed engine,\t6625\t68.99\t118.94\n",
      "*/\n"
     ]
    }
   ],
   "source": [
    "print(db.dialect)\n",
    "print(db.get_usable_table_names)\n",
    "print(db.table_info)\n"
   ]
  },
  {
   "cell_type": "code",
   "execution_count": 4,
   "id": "f3491876",
   "metadata": {},
   "outputs": [],
   "source": [
    "# langsmith + langchain integration credentials\n",
    "import os\n",
    "\n",
    "os.environ['COHERE_API_KEY'] = \"MiOl2nhufDN8fYW7yFsKHnwxP8K5TsMhza3IJaTF\"\n",
    "os.environ['LANGCHAIN_TRACING_V2'] = 'true'\n",
    "os.environ['LANGCHAIN_API_KEY'] = \"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\"\n",
    "os.environ['LANGCHAIN_ENDPOINT']='https://api.smith.langchain.com'\n",
    "os.environ['LANGCHAIN_PROJECT']='Text to SQL Query'\n"
   ]
  },
  {
   "cell_type": "code",
   "execution_count": 5,
   "id": "69ff3e86",
   "metadata": {},
   "outputs": [
    {
     "name": "stdout",
     "output_type": "stream",
     "text": [
      "Question: What is the price of '1968 ford mustang'?\n",
      "\n",
      "SQLQuery: \n",
      "```sql\n",
      "SELECT `MSRP` FROM products WHERE `productName` LIKE '%1968 ford mustang%';\n",
      "```S\n"
     ]
    },
    {
     "name": "stderr",
     "output_type": "stream",
     "text": [
      "Failed to send compressed multipart ingest: Connection error caused failure to POST https://api.smith.langchain.com/runs/multipart in LangSmith API. Please confirm your internet connection. ConnectionError(MaxRetryError('HTTPSConnectionPool(host=\\'api.smith.langchain.com\\', port=443): Max retries exceeded with url: /runs/multipart (Caused by NameResolutionError(\"<urllib3.connection.HTTPSConnection object at 0x00000190A7CCC490>: Failed to resolve \\'api.smith.langchain.com\\' ([Errno 11001] getaddrinfo failed)\"))'))\n",
      "Content-Length: 3051\n",
      "API Key: lsv2_********************************************62trace=63bd8df7-7534-4031-832d-be1d5a6c3e9e,id=63bd8df7-7534-4031-832d-be1d5a6c3e9e; trace=63bd8df7-7534-4031-832d-be1d5a6c3e9e,id=374efde8-9dd5-4aa2-9e9e-07536e0b5942; trace=63bd8df7-7534-4031-832d-be1d5a6c3e9e,id=ed8dabc7-e208-49cd-88d2-e0fd3ab673e6; trace=63bd8df7-7534-4031-832d-be1d5a6c3e9e,id=2785646d-b54f-4dfe-879c-bb35f8c613d1; trace=63bd8df7-7534-4031-832d-be1d5a6c3e9e,id=0dca81b6-a6e3-4c3b-896d-ae04d642768c; trace=63bd8df7-7534-4031-832d-be1d5a6c3e9e,id=9245b10c-7c8e-4a42-8b68-417a84238b08; trace=63bd8df7-7534-4031-832d-be1d5a6c3e9e,id=9245b10c-7c8e-4a42-8b68-417a84238b08; trace=63bd8df7-7534-4031-832d-be1d5a6c3e9e,id=0dca81b6-a6e3-4c3b-896d-ae04d642768c; trace=63bd8df7-7534-4031-832d-be1d5a6c3e9e,id=4ac58cee-f385-4861-a3f1-0f0e3faeb849; trace=63bd8df7-7534-4031-832d-be1d5a6c3e9e,id=4ac58cee-f385-4861-a3f1-0f0e3faeb849; trace=63bd8df7-7534-4031-832d-be1d5a6c3e9e,id=1c74cd75-b456-423d-aeda-e2394d7f895a\n",
      "Failed to send compressed multipart ingest: Connection error caused failure to POST https://api.smith.langchain.com/runs/multipart in LangSmith API. Please confirm your internet connection. ConnectionError(MaxRetryError('HTTPSConnectionPool(host=\\'api.smith.langchain.com\\', port=443): Max retries exceeded with url: /runs/multipart (Caused by NameResolutionError(\"<urllib3.connection.HTTPSConnection object at 0x00000190A7D29C90>: Failed to resolve \\'api.smith.langchain.com\\' ([Errno 11001] getaddrinfo failed)\"))'))\n",
      "Content-Length: 3902\n",
      "API Key: lsv2_********************************************62trace=63bd8df7-7534-4031-832d-be1d5a6c3e9e,id=1c74cd75-b456-423d-aeda-e2394d7f895a; trace=63bd8df7-7534-4031-832d-be1d5a6c3e9e,id=2785646d-b54f-4dfe-879c-bb35f8c613d1; trace=63bd8df7-7534-4031-832d-be1d5a6c3e9e,id=ed8dabc7-e208-49cd-88d2-e0fd3ab673e6; trace=63bd8df7-7534-4031-832d-be1d5a6c3e9e,id=374efde8-9dd5-4aa2-9e9e-07536e0b5942; trace=63bd8df7-7534-4031-832d-be1d5a6c3e9e,id=63bd8df7-7534-4031-832d-be1d5a6c3e9e\n"
     ]
    }
   ],
   "source": [
    "from langchain.chains import create_sql_query_chain\n",
    "from langchain_cohere import ChatCohere\n",
    "\n",
    "llm = ChatCohere(model='command-r', temperature=0)\n",
    "generate_query = create_sql_query_chain(llm, db)\n",
    "\n",
    "query = \"What is the price of '1968 ford mustang'. Provide SQL query as a output nothing else\"\n",
    "config = {\n",
    "    'run_name': 'query_generation'\n",
    "}\n",
    "res = generate_query.invoke({'question': query}, config=config)\n",
    "print(res)\n"
   ]
  },
  {
   "cell_type": "markdown",
   "id": "ca599eec",
   "metadata": {},
   "source": [
    "now that we able to convert text to sql query then we can now move towards executing it and retrieving the output from the developed query"
   ]
  },
  {
   "cell_type": "code",
   "execution_count": 6,
   "id": "7c3d01da",
   "metadata": {},
   "outputs": [
    {
     "name": "stdout",
     "output_type": "stream",
     "text": [
      "SELECT `MSRP` FROM products WHERE `productName` LIKE '%1968 ford mustang%';\n"
     ]
    }
   ],
   "source": [
    "# since my response format contains text other than sql query I need to filter out the sql query for further execution\n",
    "import re\n",
    "\n",
    "def extract_sql_from_response(response: str) -> str:\n",
    "    \"\"\"\n",
    "    Extracts SQL query from a response string containing a code block.\n",
    "    \"\"\"\n",
    "    match = re.search(r\"```sql\\s*(.*?)\\s*```\", response, re.DOTALL)\n",
    "    if match:\n",
    "        return match.group(1).strip()\n",
    "    return None\n",
    "\n",
    "# Usage after generating the query\n",
    "sql_query = extract_sql_from_response(res)\n",
    "print(sql_query)\n"
   ]
  },
  {
   "cell_type": "markdown",
   "id": "446cf4e8",
   "metadata": {},
   "source": [
    "*for some LLMs there was no need to create this below runnable but while working cohere it needed that's why I added another layer of output parser so that it won't create issue later*"
   ]
  },
  {
   "cell_type": "code",
   "execution_count": 7,
   "id": "e77d5f26",
   "metadata": {},
   "outputs": [
    {
     "name": "stdout",
     "output_type": "stream",
     "text": [
      "[(Decimal('194.57'),)]\n"
     ]
    },
    {
     "name": "stderr",
     "output_type": "stream",
     "text": [
      "C:\\Users\\hp\\AppData\\Local\\Temp\\ipykernel_8568\\213937425.py:3: LangChainDeprecationWarning: The class `QuerySQLDataBaseTool` was deprecated in LangChain 0.3.12 and will be removed in 1.0. An updated version of the class exists in the :class:`~langchain-community package and should be used instead. To use it run `pip install -U :class:`~langchain-community` and import as `from :class:`~langchain_community.tools import QuerySQLDatabaseTool``.\n",
      "  execute_query = QuerySQLDataBaseTool(db=db)\n"
     ]
    }
   ],
   "source": [
    "from langchain_community.tools.sql_database.tool import QuerySQLDataBaseTool\n",
    "\n",
    "execute_query = QuerySQLDataBaseTool(db=db)\n",
    "config = {\n",
    "    'run_name': 'query_execution'\n",
    "}\n",
    "# extract the sql query and execute\n",
    "if sql_query:\n",
    "    result = execute_query.invoke(sql_query, config=config)\n",
    "    print(result)\n",
    "else:\n",
    "    print(\"No SQL query found in response.\")\n"
   ]
  },
  {
   "cell_type": "code",
   "execution_count": 8,
   "id": "3196f920",
   "metadata": {},
   "outputs": [],
   "source": [
    "# need to convert the query extraction  function as a runnable\n",
    "from langchain_core.runnables import RunnableLambda\n",
    "\n",
    "extract_sql_runnable = RunnableLambda(extract_sql_from_response)\n"
   ]
  },
  {
   "cell_type": "markdown",
   "id": "9c8c052a",
   "metadata": {},
   "source": [
    "We have both the chains working properly so let's merge them into one chain\n"
   ]
  },
  {
   "cell_type": "code",
   "execution_count": 9,
   "id": "4883963e",
   "metadata": {},
   "outputs": [
    {
     "data": {
      "text/plain": [
       "'[(326,)]'"
      ]
     },
     "execution_count": 9,
     "metadata": {},
     "output_type": "execute_result"
    }
   ],
   "source": [
    "chain = generate_query | extract_sql_runnable | execute_query\n",
    "chain.invoke({'question': 'how many orders aer there'})\n"
   ]
  },
  {
   "cell_type": "code",
   "execution_count": 10,
   "id": "75012e05",
   "metadata": {},
   "outputs": [
    {
     "name": "stdout",
     "output_type": "stream",
     "text": [
      "You are a MySQL expert. Given an input question, first create a syntactically correct MySQL query to run, then look at the results of the query and return the answer to the input question.\n",
      "Unless the user specifies in the question a specific number of examples to obtain, query for at most 5 results using the LIMIT clause as per MySQL. You can order the results to return the most informative data in the database.\n",
      "Never query for all columns from a table. You must query only the columns that are needed to answer the question. Wrap each column name in backticks (`) to denote them as delimited identifiers.\n",
      "Pay attention to use only the column names you can see in the tables below. Be careful to not query for columns that do not exist. Also, pay attention to which column is in which table.\n",
      "Pay attention to use CURDATE() function to get the current date, if the question involves \"today\".\n",
      "\n",
      "Use the following format:\n",
      "\n",
      "Question: Question here\n",
      "SQLQuery: SQL Query to run\n",
      "SQLResult: Result of the SQLQuery\n",
      "Answer: Final answer here\n",
      "\n",
      "Only use the following tables:\n",
      "\u001b[33;1m\u001b[1;3m{table_info}\u001b[0m\n",
      "\n",
      "Question: \u001b[33;1m\u001b[1;3m{input}\u001b[0m\n"
     ]
    }
   ],
   "source": [
    "# extracting prompt template from the chain\n",
    "chain.get_prompts()[0].pretty_print()\n"
   ]
  },
  {
   "cell_type": "markdown",
   "id": "6ed50951",
   "metadata": {},
   "source": [
    "We are going to develop a simple workflow where we'll take natural query as a input showcase the ouput in structured format.\n",
    "\n",
    "**Flow:** *question -> sql query generation -> sql query result -> final answer*"
   ]
  },
  {
   "cell_type": "code",
   "execution_count": 11,
   "id": "8df5590f",
   "metadata": {},
   "outputs": [],
   "source": [
    "from operator import itemgetter\n",
    "from langchain_core.output_parsers import StrOutputParser\n",
    "from langchain_core.prompts import PromptTemplate\n",
    "from langchain_core.runnables import RunnablePassthrough\n",
    "\n",
    "answer_prompt = PromptTemplate.from_template(\n",
    "    \"\"\"Given the following user question, corresponding SQL query, and SQL result, answer the user question.\n",
    "\n",
    " Question: {question}\n",
    " SQL Query: {query}\n",
    " SQL Result: {result}\n",
    " Answer: \"\"\"\n",
    ")\n"
   ]
  },
  {
   "cell_type": "code",
   "execution_count": 12,
   "id": "6bef7c07",
   "metadata": {},
   "outputs": [
    {
     "ename": "NameError",
     "evalue": "name 'rephrased_answer' is not defined",
     "output_type": "error",
     "traceback": [
      "\u001b[31m---------------------------------------------------------------------------\u001b[39m",
      "\u001b[31mNameError\u001b[39m                                 Traceback (most recent call last)",
      "\u001b[36mCell\u001b[39m\u001b[36m \u001b[39m\u001b[32mIn[12]\u001b[39m\u001b[32m, line 2\u001b[39m\n\u001b[32m      1\u001b[39m \u001b[38;5;66;03m# this chain will fail because 'rephrased_answer' needs many other inputs which are not there in output of execute query that's why we are using runnablepassthrough.assign() to ensure all the requirements are fulfilled properly\u001b[39;00m\n\u001b[32m----> \u001b[39m\u001b[32m2\u001b[39m chain = generate_query | extract_sql_runnable | execute_query | \u001b[43mrephrased_answer\u001b[49m\n\u001b[32m      3\u001b[39m chain.invoke({\u001b[33m'\u001b[39m\u001b[33mquestion\u001b[39m\u001b[33m'\u001b[39m: \u001b[33m\"\u001b[39m\u001b[33mhow many orders are there in total\u001b[39m\u001b[33m\"\u001b[39m})\n",
      "\u001b[31mNameError\u001b[39m: name 'rephrased_answer' is not defined"
     ]
    }
   ],
   "source": [
    "# this chain will fail because 'rephrased_answer' needs many other inputs which are not there in output of execute query that's why we are using runnablepassthrough.assign() to ensure all the requirements are fulfilled properly\n",
    "chain = generate_query | extract_sql_runnable | execute_query | rephrased_answer\n",
    "chain.invoke({'question': \"how many orders are there in total\"})\n"
   ]
  },
  {
   "cell_type": "code",
   "execution_count": 13,
   "id": "c8ddf537",
   "metadata": {},
   "outputs": [
    {
     "data": {
      "text/plain": [
       "\"It looks like the SQL query needs to be adjusted to comply with the database's sql_mode=only_full_group_by setting. To fix the error, we should add a GROUP BY clause to the query.\\n\\nHere's the modified SQL query:\\n```sql\\nSELECT customers.customerName, SUM(payments.amount) AS highest_amount\\nFROM payments\\nJOIN customers USING (customerNumber)\\nGROUP BY customers.customerName\\nORDER BY highest_amount DESC\\nLIMIT 1;\\n```\\n\\nThe highest-paying customer is 'John Doe' who has paid a total of '$64000'.\""
      ]
     },
     "execution_count": 13,
     "metadata": {},
     "output_type": "execute_result"
    }
   ],
   "source": [
    "rephrased_answer = answer_prompt | llm  | StrOutputParser() # output parser will help to get the sql query and return for further process\n",
    "\n",
    "chain = (\n",
    "    RunnablePassthrough.assign(query=generate_query).assign( # from generate query we get: user question, sql query\n",
    "        result = itemgetter('query') | extract_sql_runnable | execute_query # from here we get sql result\n",
    "    )\n",
    "    | rephrased_answer # and all the response from runnable passthrough will be sent here to generate final response\n",
    ")\n",
    "\n",
    "chain.invoke({'question': \"who is the highest paying customer tell it's name and what is the amount\"})\n"
   ]
  },
  {
   "cell_type": "markdown",
   "id": "2835d66d",
   "metadata": {},
   "source": [
    "**Adding few-shot examples for better understanding**\n",
    "\n",
    "LLM may fail if it tackles tough queries"
   ]
  },
  {
   "cell_type": "code",
   "execution_count": 14,
   "id": "006bedc2",
   "metadata": {},
   "outputs": [],
   "source": [
    "examples = [\n",
    "    {\n",
    "        \"input\": \"List all customers in France with a credit limit over 20,000.\",\n",
    "        \"query\": \"SELECT * FROM customers WHERE country = 'France' AND creditLimit > 20000;\"\n",
    "    },\n",
    "    {\n",
    "        \"input\": \"Get the highest payment amount made by any customer.\",\n",
    "        \"query\": \"SELECT MAX(amount) FROM payments;\"\n",
    "    },\n",
    "    {\n",
    "        'input': \"Show product details for products in the 'motorcycles' product line. \",\n",
    "        'query': \"SELECT * FROM products WHERE productLine = 'Motorcycles';\"\n",
    "    },\n",
    "    {\n",
    "        'input': 'Retrieve the names of employees who report to employee number 1002.',\n",
    "        'query': \"SELECT firstName, lastName FROM employees WHERE reportsTo = 1002\"\n",
    "    }, \n",
    "    {\n",
    "        'input': 'List all products with a stock quantity less than 7000',\n",
    "        'query': \"SELECT productName, quantityInStock FROM products WHERE quantityInStock < 700;\"\n",
    "    }\n",
    "]\n"
   ]
  },
  {
   "cell_type": "code",
   "execution_count": 15,
   "id": "5b36e9a1",
   "metadata": {},
   "outputs": [
    {
     "name": "stdout",
     "output_type": "stream",
     "text": [
      "Human: List all customers in France with a credit limit over 20,000.\n",
      "SQLQuery:\n",
      "AI: SELECT * FROM customers WHERE country = 'France' AND creditLimit > 20000;\n",
      "Human: Get the highest payment amount made by any customer.\n",
      "SQLQuery:\n",
      "AI: SELECT MAX(amount) FROM payments;\n",
      "Human: Show product details for products in the 'motorcycles' product line. \n",
      "SQLQuery:\n",
      "AI: SELECT * FROM products WHERE productLine = 'Motorcycles';\n",
      "Human: Retrieve the names of employees who report to employee number 1002.\n",
      "SQLQuery:\n",
      "AI: SELECT firstName, lastName FROM employees WHERE reportsTo = 1002\n",
      "Human: List all products with a stock quantity less than 7000\n",
      "SQLQuery:\n",
      "AI: SELECT productName, quantityInStock FROM products WHERE quantityInStock < 700;\n"
     ]
    }
   ],
   "source": [
    "# generating few shot prompt template\n",
    "from langchain_core.prompts import ChatPromptTemplate, MessagesPlaceholder, FewShotChatMessagePromptTemplate\n",
    "\n",
    "example_prompt = ChatPromptTemplate.from_messages(\n",
    "    [\n",
    "        (\"human\", \"{input}\\nSQLQuery:\"),\n",
    "        (\"ai\", \"{query}\"),\n",
    "    ]\n",
    ")\n",
    "\n",
    "few_shot_prompt = FewShotChatMessagePromptTemplate(\n",
    "    example_prompt=example_prompt,\n",
    "    examples=examples,\n",
    "    input_variables=['input']\n",
    ")\n",
    "\n",
    "print(few_shot_prompt.format(input='how many products are there ?'))\n"
   ]
  },
  {
   "cell_type": "markdown",
   "id": "1b1fa19d",
   "metadata": {},
   "source": [
    "right now it's selecting all the examples we want it to select only relevant example from examples dictoinary to help llm generate sql query.\n",
    "\n",
    "**Dynamic Few Shot Selection**\n",
    "\n",
    "this will help to select relevant k example which are related to asked user query"
   ]
  },
  {
   "cell_type": "code",
   "execution_count": 16,
   "id": "edd181f8",
   "metadata": {},
   "outputs": [
    {
     "name": "stderr",
     "output_type": "stream",
     "text": [
      "C:\\Users\\hp\\AppData\\Local\\Temp\\ipykernel_8568\\2218894559.py:5: LangChainDeprecationWarning: The class `Chroma` was deprecated in LangChain 0.2.9 and will be removed in 1.0. An updated version of the class exists in the :class:`~langchain-chroma package and should be used instead. To use it run `pip install -U :class:`~langchain-chroma` and import as `from :class:`~langchain_chroma import Chroma``.\n",
      "  vectorstore = Chroma()\n"
     ]
    },
    {
     "data": {
      "text/plain": [
       "[{'input': 'Get the highest payment amount made by any customer.',\n",
       "  'query': 'SELECT MAX(amount) FROM payments;'},\n",
       " {'query': \"SELECT * FROM customers WHERE country = 'France' AND creditLimit > 20000;\",\n",
       "  'input': 'List all customers in France with a credit limit over 20,000.'}]"
      ]
     },
     "execution_count": 16,
     "metadata": {},
     "output_type": "execute_result"
    }
   ],
   "source": [
    "from langchain_community.vectorstores import Chroma\n",
    "from langchain_core.example_selectors import SemanticSimilarityExampleSelector\n",
    "from langchain_cohere import CohereEmbeddings\n",
    "\n",
    "vectorstore = Chroma()\n",
    "vectorstore.delete_collection()\n",
    "example_selector = SemanticSimilarityExampleSelector.from_examples(\n",
    "    examples,\n",
    "    CohereEmbeddings(model='embed-english-v3.0'),\n",
    "    vectorstore,\n",
    "    k=2,\n",
    "    input_keys=['input'],\n",
    ")\n",
    "\n",
    "example_selector.select_examples({'input': 'who is the highest paying customer'})\n"
   ]
  },
  {
   "cell_type": "code",
   "execution_count": 17,
   "id": "141fdef1",
   "metadata": {},
   "outputs": [
    {
     "name": "stdout",
     "output_type": "stream",
     "text": [
      "Human: List all products with a stock quantity less than 7000\n",
      "SQLQuery:\n",
      "AI: SELECT productName, quantityInStock FROM products WHERE quantityInStock < 700;\n",
      "Human: Show product details for products in the 'motorcycles' product line. \n",
      "SQLQuery:\n",
      "AI: SELECT * FROM products WHERE productLine = 'Motorcycles';\n"
     ]
    }
   ],
   "source": [
    "# modifying few shot prompting by selecting top-k related examples as input\n",
    "few_shot_prompt = FewShotChatMessagePromptTemplate(\n",
    "    example_prompt=example_prompt,\n",
    "    example_selector=example_selector,\n",
    "    input_variables=['input', 'top_k'],\n",
    ")\n",
    "\n",
    "print(few_shot_prompt.format(input=\"what is the count of total products\"))\n"
   ]
  },
  {
   "cell_type": "code",
   "execution_count": 18,
   "id": "eebb3382",
   "metadata": {},
   "outputs": [
    {
     "name": "stdout",
     "output_type": "stream",
     "text": [
      "System: You are a MySQL expert. Given an input question, create a syntactically correct MySQL query to run. Unless otherwise specificed.\n",
      "\n",
      "Here is the relevant table info: some table info\n",
      "\n",
      "Below are a number of examples of questions and their corresponding SQL queries.\n",
      "Human: Show product details for products in the 'motorcycles' product line. \n",
      "SQLQuery:\n",
      "AI: SELECT * FROM products WHERE productLine = 'Motorcycles';\n",
      "Human: List all products with a stock quantity less than 7000\n",
      "SQLQuery:\n",
      "AI: SELECT productName, quantityInStock FROM products WHERE quantityInStock < 700;\n",
      "Human: How many products are there?\n"
     ]
    }
   ],
   "source": [
    "# building new prompt template containing few examples for references\n",
    "final_prompt = ChatPromptTemplate.from_messages(\n",
    "    [\n",
    "        (\"system\", \"You are a MySQL expert. Given an input question, create a syntactically correct MySQL query to run. Unless otherwise specificed.\\n\\nHere is the relevant table info: {table_info}\\n\\nBelow are a number of examples of questions and their corresponding SQL queries.\"),\n",
    "        few_shot_prompt,\n",
    "        (\"human\", \"{input}\"),\n",
    "    ]\n",
    ")\n",
    "print(final_prompt.format(input=\"How many products are there?\",table_info=\"some table info\"))\n"
   ]
  },
  {
   "cell_type": "code",
   "execution_count": 19,
   "id": "62375c9f",
   "metadata": {},
   "outputs": [
    {
     "data": {
      "text/plain": [
       "'There are 85 customers with a credit limit of more than 50000.'"
      ]
     },
     "execution_count": 19,
     "metadata": {},
     "output_type": "execute_result"
    }
   ],
   "source": [
    "# testing if it works or not\n",
    "generate_query = create_sql_query_chain(llm, db,final_prompt) # upaded the sql query chain with new prompt template\n",
    "# rest is same as before\n",
    "chain = (\n",
    "    RunnablePassthrough.assign(query=generate_query).assign(\n",
    "        result=itemgetter(\"query\") | execute_query\n",
    "    ) \n",
    "    | rephrased_answer\n",
    ")\n",
    "chain.invoke({\"question\": \"How many csutomers with credit limit more than 50000\"})\n"
   ]
  },
  {
   "cell_type": "markdown",
   "id": "8cb57d97",
   "metadata": {},
   "source": [
    "There is one more issue which persist is now we are providing details of all the tables which we have got in out databases, but fow now we're dealing with very few schema for large it will be quite complicated for LLM to understand importance of each schema. \n",
    "\n",
    "We are going to dynamically select relevant schemas which will be needed by LLM to generate SQL query to make our prompt concise and accurate for usage."
   ]
  },
  {
   "cell_type": "markdown",
   "id": "25846ec4",
   "metadata": {},
   "source": [
    "For dynamic selection I'm going to create file containing small description about each schema based on that description LLM will be able to select relevant schema information only."
   ]
  },
  {
   "cell_type": "code",
   "execution_count": 20,
   "id": "5c94e294",
   "metadata": {},
   "outputs": [
    {
     "name": "stdout",
     "output_type": "stream",
     "text": [
      "Table Name: productlines\n",
      "Table Description: Stores information about the different product lines offered by the company, including a unique name, textual description, HTML description, and image. Categorizes products into different lines\n",
      "\n",
      "Table Name: products\n",
      "Table Description: Contains details of each product sold by the company, including code, name, product line, scale, vendor, description, stock quantity, buy price, and MSRP Linked to the productlines table.\n",
      "\n",
      "Table Name: offices\n",
      "Table Description: Holds data on the company's sales offices, including office code, city, phone number, address, state, country, postal code, and territory. Each office is uniquely identified by its office code.\n",
      "\n",
      "Table Name: employees\n",
      "Table Description: Stores information about employees, including number, last name, first name, job title, contact info, and office code. Links to offices and maps organizational structure through the reports To attribute\n",
      "\n",
      "Table Name: customers\n",
      "Table Description: Captures data on customers, including customer number, name, contact details, address, assigned sales rep, and credit limit. Central to managing customer relationships and sales processes\n",
      "\n",
      "Table Name: payments\n",
      "Table Description: Records payments made by customers, tracking the customer number, check number, payment date, and amount. Linked to the customers table for financial tracking and account management\n",
      "\n",
      "Table Name: orders\n",
      "Table Description: Details each sales order placed by customers, including order number, dates, status, comments, and customer number Linked to the customers table, tracking sales transactions.\n",
      "\n",
      "Table Name: orderdetails\n",
      "Table Description: Describes individual line items for each sales order, including order number, product code, quantity, price, and order line number. Links orders to products, detailing the items sold.\n",
      "\n",
      "\n"
     ]
    }
   ],
   "source": [
    "# extracting table descriptions from csv file\n",
    "import pandas as pd\n",
    "\n",
    "def get_schema_details():\n",
    "    table_description = pd.read_csv('mysql_schema_description.csv')\n",
    "    table_docs = []\n",
    "    \n",
    "    table_details = \"\"\n",
    "    for index, row in table_description.iterrows():\n",
    "        table_details = table_details + \"Table Name: \" + row['Table_Name'] + '\\n' + 'Table Description: ' + row['Description'] + \"\\n\\n\"\n",
    "    \n",
    "    return table_details\n",
    "\n",
    "table_details = get_schema_details()\n",
    "print(table_details)\n"
   ]
  },
  {
   "cell_type": "code",
   "execution_count": 35,
   "id": "071fe9a9",
   "metadata": {},
   "outputs": [],
   "source": [
    "from pydantic import BaseModel, Field\n",
    "from typing import List\n",
    "\n",
    "class Table(BaseModel):\n",
    "    \"\"\"Table in SQL DATABASE\"\"\"\n",
    "    table_name: List[str] = Field(description='Name of the table in SQL Database')\n"
   ]
  },
  {
   "cell_type": "code",
   "execution_count": 36,
   "id": "4268a92d",
   "metadata": {},
   "outputs": [
    {
     "data": {
      "text/plain": [
       "Table(table_name=['customers', 'orders', 'orderdetails'])"
      ]
     },
     "execution_count": 36,
     "metadata": {},
     "output_type": "execute_result"
    }
   ],
   "source": [
    "# prompt decribing table details\n",
    "table_details_prompt = f\"\"\"\n",
    "    Return the names of ALL the SQL tables that MIGHT be relevant to the user Question. \\n\n",
    "    The Tables are:\n",
    "    {table_details}\n",
    "    \n",
    "    REMEMBER: Include ALL POTENTIALLY RELEVANT tables, even if you are not sure that they're needed.\n",
    "\"\"\"\n",
    "\n",
    "table_chain = llm.with_structured_output(Table)\n",
    "user_query = \"give me details of customer and their order count\"\n",
    "prompt_with_table_details_and_query = f\"{table_details_prompt}\\n\\nUser query: {user_query}\"\n",
    "\n",
    "tables = table_chain.invoke(prompt_with_table_details_and_query)\n",
    "tables\n"
   ]
  },
  {
   "cell_type": "code",
   "execution_count": 67,
   "id": "5ad7c892",
   "metadata": {},
   "outputs": [],
   "source": [
    "def get_tables(tables) -> List[str]:\n",
    "    tables = [table for table in tables.table_name]\n",
    "    return tables\n"
   ]
  },
  {
   "cell_type": "code",
   "execution_count": 68,
   "id": "0a121dc1",
   "metadata": {},
   "outputs": [
    {
     "data": {
      "text/plain": [
       "['customers', 'orders', 'orderdetails']"
      ]
     },
     "execution_count": 68,
     "metadata": {},
     "output_type": "execute_result"
    }
   ],
   "source": [
    "get_tables(tables)\n"
   ]
  },
  {
   "cell_type": "code",
   "execution_count": 77,
   "id": "93744e87",
   "metadata": {},
   "outputs": [
    {
     "name": "stdout",
     "output_type": "stream",
     "text": [
      "['customers', 'orders', 'orderdetails']\n"
     ]
    }
   ],
   "source": [
    "# this chain will be used for table name selection\n",
    "select_table = (\n",
    "    {\"question\": itemgetter(\"question\")}\n",
    "    | RunnableLambda(lambda x: f\"{table_details_prompt}\\n\\nUser query: {x['question']}\")\n",
    "    | table_chain\n",
    "    | RunnableLambda(get_tables)\n",
    ")\n",
    "\n",
    "tables = select_table.invoke({\"question\": \"give me details of customer and their order count\"})\n",
    "print(tables) \n"
   ]
  },
  {
   "cell_type": "code",
   "execution_count": null,
   "id": "3108dfd8",
   "metadata": {},
   "outputs": [],
   "source": [
    "\n"
   ]
  },
  {
   "cell_type": "code",
   "execution_count": 78,
   "id": "97ddc807",
   "metadata": {},
   "outputs": [],
   "source": [
    "final_chain_with_dynamic_tables = (\n",
    "    RunnablePassthrough.assign(table_names_to_use=select_table) \n",
    "    | RunnablePassthrough.assign(query=generate_query).assign(\n",
    "        result=itemgetter('query') | execute_query\n",
    "    )\n",
    "    | rephrased_answer\n",
    ")\n"
   ]
  },
  {
   "cell_type": "code",
   "execution_count": 79,
   "id": "07f51be3",
   "metadata": {},
   "outputs": [
    {
     "data": {
      "text/plain": [
       "'We have 122 customers.'"
      ]
     },
     "execution_count": 79,
     "metadata": {},
     "output_type": "execute_result"
    }
   ],
   "source": [
    "final_chain_with_dynamic_tables.invoke({\"question\": 'total numbers or customers we have'})\n"
   ]
  },
  {
   "cell_type": "markdown",
   "id": "a1c5c535",
   "metadata": {},
   "source": [
    "Now that it's working properly, there is a problem that it can't answer followup questions. We need to add memory to it so that it answers followup questions."
   ]
  },
  {
   "cell_type": "code",
   "execution_count": 80,
   "id": "3970885d",
   "metadata": {},
   "outputs": [
    {
     "name": "stdout",
     "output_type": "stream",
     "text": [
      "System: You are a MySQL expert. Given an input question, create a syntactically correct MySQL query to run. Unless otherwise specificed.\n",
      "\n",
      "Here is the relevant table info: some table info\n",
      "\n",
      "Below are a number of examples of questions and their corresponding SQL queries. Those examples are just for referecne and hsould be considered while answering follow up questions\n",
      "Human: Show product details for products in the 'motorcycles' product line. \n",
      "SQLQuery:\n",
      "AI: SELECT * FROM products WHERE productLine = 'Motorcycles';\n",
      "Human: List all products with a stock quantity less than 7000\n",
      "SQLQuery:\n",
      "AI: SELECT productName, quantityInStock FROM products WHERE quantityInStock < 700;\n",
      "Human: How many products are there?\n"
     ]
    }
   ],
   "source": [
    "final_prompt = ChatPromptTemplate.from_messages(\n",
    "    [\n",
    "        (\"system\", \"You are a MySQL expert. Given an input question, create a syntactically correct MySQL query to run. Unless otherwise specificed.\\n\\nHere is the relevant table info: {table_info}\\n\\nBelow are a number of examples of questions and their corresponding SQL queries. Those examples are just for referecne and hsould be considered while answering follow up questions\"),\n",
    "        few_shot_prompt,\n",
    "        MessagesPlaceholder(variable_name=\"messages\"),\n",
    "        (\"human\", \"{input}\"),\n",
    "    ]\n",
    ")\n",
    "print(final_prompt.format(input=\"How many products are there?\",table_info=\"some table info\",messages=[]))\n"
   ]
  },
  {
   "cell_type": "markdown",
   "id": "410b8761",
   "metadata": {},
   "source": [
    "**Adding memory feature to it**"
   ]
  },
  {
   "cell_type": "code",
   "execution_count": 108,
   "id": "feaf9ab2",
   "metadata": {},
   "outputs": [],
   "source": [
    "from langchain_core.output_parsers import StrOutputParser\n",
    "import re\n",
    "\n",
    "# 1. SQL-only parser\n",
    "class SQLParser(StrOutputParser):\n",
    "    def parse(self, text: str) -> str:\n",
    "        # Extract first SQL block or clean out prefix text\n",
    "        match = re.search(r\"(SELECT .*?;)\", text, re.DOTALL | re.IGNORECASE)\n",
    "        if match:\n",
    "            return match.group(1).strip()\n",
    "        return text.strip()  # fallback\n",
    "\n",
    "sql_only_parser = SQLParser()\n",
    "\n",
    "# 2. Wrap your generate_query chain\n",
    "generate_query_clean = generate_query | sql_only_parser\n",
    "\n"
   ]
  },
  {
   "cell_type": "code",
   "execution_count": 109,
   "id": "3755914f",
   "metadata": {},
   "outputs": [],
   "source": [
    "from langchain.memory import ChatMessageHistory\n",
    "\n",
    "history = ChatMessageHistory()\n",
    "\n",
    "generate_query = create_sql_query_chain(llm, db, final_prompt)\n",
    "\n",
    "chain = (\n",
    "    RunnablePassthrough.assign(table_names_to_use=select_table) \n",
    "    | RunnablePassthrough.assign(query=generate_query_clean).assign(\n",
    "        result=itemgetter('query') | execute_query\n",
    "    )\n",
    "    | rephrased_answer\n",
    ")\n"
   ]
  },
  {
   "cell_type": "code",
   "execution_count": 110,
   "id": "9fd70544",
   "metadata": {},
   "outputs": [
    {
     "data": {
      "text/plain": [
       "'There are 2 customers who have placed more than 5 orders.'"
      ]
     },
     "execution_count": 110,
     "metadata": {},
     "output_type": "execute_result"
    }
   ],
   "source": [
    "question = \"how many customers with order count more than 5\"\n",
    "\n",
    "response = chain.invoke({'question': question, 'messages':history.messages}) # now we're providing previous conversation history to answer follow up questions\n",
    "response\n"
   ]
  },
  {
   "cell_type": "code",
   "execution_count": 111,
   "id": "d8135ba2",
   "metadata": {},
   "outputs": [],
   "source": [
    "history.add_user_message(question)\n",
    "history.add_ai_message(response)\n"
   ]
  },
  {
   "cell_type": "code",
   "execution_count": 112,
   "id": "d32cc60a",
   "metadata": {},
   "outputs": [
    {
     "data": {
      "text/plain": [
       "InMemoryChatMessageHistory(messages=[HumanMessage(content='how many customers with order count more than 5', additional_kwargs={}, response_metadata={}), AIMessage(content='There are 2 customers who have placed more than 5 orders.', additional_kwargs={}, response_metadata={})])"
      ]
     },
     "execution_count": 112,
     "metadata": {},
     "output_type": "execute_result"
    }
   ],
   "source": [
    "history\n"
   ]
  },
  {
   "cell_type": "code",
   "execution_count": 113,
   "id": "55cf542b",
   "metadata": {},
   "outputs": [
    {
     "data": {
      "text/plain": [
       "\"Sure! Here's the answer:\\n\\nThe names are 'Mini Gifts Distributors Ltd.' and 'Euro+ Shopping Channel'.\""
      ]
     },
     "execution_count": 113,
     "metadata": {},
     "output_type": "execute_result"
    }
   ],
   "source": [
    "follow_up = chain.invoke({'question': 'can you list their names ?', 'messages': history.messages})\n",
    "follow_up\n"
   ]
  },
  {
   "cell_type": "markdown",
   "id": "8e623e15",
   "metadata": {},
   "source": [
    "One Issue persist here is that while asking follow up question, it's giving all the possible schemas as relevant schemas because that prompt doesn't have access to history so we need to integrate the history there also so that while asking follow up questions it tells only relevant schema names."
   ]
  },
  {
   "cell_type": "code",
   "execution_count": null,
   "id": "579f2fa7",
   "metadata": {},
   "outputs": [],
   "source": []
  },
  {
   "cell_type": "code",
   "execution_count": null,
   "id": "0196b825",
   "metadata": {},
   "outputs": [],
   "source": []
  }
 ],
 "metadata": {
  "kernelspec": {
   "display_name": ".venv (3.11.7)",
   "language": "python",
   "name": "python3"
  },
  "language_info": {
   "codemirror_mode": {
    "name": "ipython",
    "version": 3
   },
   "file_extension": ".py",
   "mimetype": "text/x-python",
   "name": "python",
   "nbconvert_exporter": "python",
   "pygments_lexer": "ipython3",
   "version": "3.11.7"
  }
 },
 "nbformat": 4,
 "nbformat_minor": 5
}
